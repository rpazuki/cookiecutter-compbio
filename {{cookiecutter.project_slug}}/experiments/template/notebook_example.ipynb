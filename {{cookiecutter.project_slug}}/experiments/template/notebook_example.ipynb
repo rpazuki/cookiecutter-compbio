{
 "cells": [
  {
   "cell_type": "code",
   "execution_count": null,
   "id": "195cc917",
   "metadata": {
    "vscode": {
     "languageId": "plaintext"
    }
   },
   "outputs": [],
   "source": [
    "from {{ cookiecutter.module_name }} import *"
   ]
  }
 ],
 "metadata": {
  "language_info": {
   "name": "python"
  }
 },
 "nbformat": 4,
 "nbformat_minor": 5
}
